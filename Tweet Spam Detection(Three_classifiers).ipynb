{
  "cells": [
    {
      "cell_type": "markdown",
      "metadata": {
        "id": "view-in-github",
        "colab_type": "text"
      },
      "source": [
        "<a href=\"https://colab.research.google.com/github/NqaaLadadwa/Tweet-Spam-Detection/blob/main/Tweet%20Spam%20Detection(Three_classifiers).ipynb\" target=\"_parent\"><img src=\"https://colab.research.google.com/assets/colab-badge.svg\" alt=\"Open In Colab\"/></a>"
      ]
    },
    {
      "cell_type": "markdown",
      "metadata": {
        "id": "4EX5N3oKwcYr"
      },
      "source": [
        "**Importing the Dependencies**"
      ]
    },
    {
      "cell_type": "code",
      "execution_count": null,
      "metadata": {
        "id": "yK33G5oLwdyu"
      },
      "outputs": [],
      "source": [
        "import numpy as np\n",
        "import pandas as pd\n",
        "from sklearn.model_selection import train_test_split\n",
        "from sklearn.feature_extraction.text import TfidfVectorizer\n",
        "from sklearn.linear_model import LogisticRegression\n",
        "from sklearn.metrics import accuracy_score\n",
        "from sklearn.tree import DecisionTreeClassifier\n",
        "from sklearn.tree import DecisionTreeRegressor\n",
        "from sklearn.naive_bayes import GaussianNB\n",
        "from sklearn.metrics import accuracy_score, confusion_matrix"
      ]
    },
    {
      "cell_type": "markdown",
      "metadata": {
        "id": "HwpRbRClx1rX"
      },
      "source": [
        "**Data Collection & Pre-Processing**"
      ]
    },
    {
      "cell_type": "code",
      "execution_count": null,
      "metadata": {
        "id": "dgJ7zfswx2kE"
      },
      "outputs": [],
      "source": [
        "# loading the data from csv file to a pandas Dataframe\n",
        "raw_tweet_data = pd.read_csv('/content/train.csv')"
      ]
    },
    {
      "cell_type": "code",
      "execution_count": null,
      "metadata": {
        "colab": {
          "base_uri": "https://localhost:8080/"
        },
        "id": "0sxy5l3KOXPY",
        "outputId": "ac3d0ec0-fb0e-46bc-e61a-80edbf7dc373"
      },
      "outputs": [
        {
          "output_type": "stream",
          "name": "stdout",
          "text": [
            "          Id  ...     Type\n",
            "0      10091  ...  Quality\n",
            "1      10172  ...  Quality\n",
            "2       7012  ...  Quality\n",
            "3       3697  ...     Spam\n",
            "4      10740  ...     Spam\n",
            "...      ...  ...      ...\n",
            "11963   7866  ...  Quality\n",
            "11964   7841  ...  Quality\n",
            "11965   9090  ...     Spam\n",
            "11966   6818  ...  Quality\n",
            "11967   4937  ...     Spam\n",
            "\n",
            "[11968 rows x 8 columns]\n"
          ]
        }
      ],
      "source": [
        "print(raw_tweet_data)"
      ]
    },
    {
      "cell_type": "code",
      "execution_count": null,
      "metadata": {
        "id": "2hGo6sZvS3hj"
      },
      "outputs": [],
      "source": [
        "# replace the missing values with new values\n",
        "tweet_data = raw_tweet_data.fillna({\n",
        "'Id\t':0,\n",
        "'Tweet': \"No Tweet\",\n",
        "'following': 0,\n",
        "'followers': 0,\n",
        "'actions': 0,\n",
        "'is_retweet': \"Nothing\",\n",
        "'location': \"No place\",\n",
        "'Type': \"Not determined\"\n",
        "})"
      ]
    },
    {
      "cell_type": "code",
      "execution_count": null,
      "metadata": {
        "colab": {
          "base_uri": "https://localhost:8080/",
          "height": 206
        },
        "id": "fzR71l_HUvgl",
        "outputId": "4b0f5fc1-0ecd-4918-fac9-4783084f88be"
      },
      "outputs": [
        {
          "output_type": "execute_result",
          "data": {
            "text/html": [
              "\n",
              "  <div id=\"df-dca50f78-a0f2-47d7-b7e1-e209160019e2\">\n",
              "    <div class=\"colab-df-container\">\n",
              "      <div>\n",
              "<style scoped>\n",
              "    .dataframe tbody tr th:only-of-type {\n",
              "        vertical-align: middle;\n",
              "    }\n",
              "\n",
              "    .dataframe tbody tr th {\n",
              "        vertical-align: top;\n",
              "    }\n",
              "\n",
              "    .dataframe thead th {\n",
              "        text-align: right;\n",
              "    }\n",
              "</style>\n",
              "<table border=\"1\" class=\"dataframe\">\n",
              "  <thead>\n",
              "    <tr style=\"text-align: right;\">\n",
              "      <th></th>\n",
              "      <th>Id</th>\n",
              "      <th>Tweet</th>\n",
              "      <th>following</th>\n",
              "      <th>followers</th>\n",
              "      <th>actions</th>\n",
              "      <th>is_retweet</th>\n",
              "      <th>location</th>\n",
              "      <th>Type</th>\n",
              "    </tr>\n",
              "  </thead>\n",
              "  <tbody>\n",
              "    <tr>\n",
              "      <th>0</th>\n",
              "      <td>10091</td>\n",
              "      <td>It's the everything else that's complicated. #...</td>\n",
              "      <td>0.0</td>\n",
              "      <td>11500.0</td>\n",
              "      <td>0.0</td>\n",
              "      <td>0.0</td>\n",
              "      <td>Chicago</td>\n",
              "      <td>Quality</td>\n",
              "    </tr>\n",
              "    <tr>\n",
              "      <th>1</th>\n",
              "      <td>10172</td>\n",
              "      <td>Eren sent a glare towards Mikasa then nodded a...</td>\n",
              "      <td>0.0</td>\n",
              "      <td>0.0</td>\n",
              "      <td>0.0</td>\n",
              "      <td>0.0</td>\n",
              "      <td>No place</td>\n",
              "      <td>Quality</td>\n",
              "    </tr>\n",
              "    <tr>\n",
              "      <th>2</th>\n",
              "      <td>7012</td>\n",
              "      <td>I posted a new photo to Facebook http://fb.me/...</td>\n",
              "      <td>0.0</td>\n",
              "      <td>0.0</td>\n",
              "      <td>0.0</td>\n",
              "      <td>0.0</td>\n",
              "      <td>Scotland, U.K</td>\n",
              "      <td>Quality</td>\n",
              "    </tr>\n",
              "    <tr>\n",
              "      <th>3</th>\n",
              "      <td>3697</td>\n",
              "      <td>#jan Idiot Chelsea Handler Diagnoses Trump Wit...</td>\n",
              "      <td>3319.0</td>\n",
              "      <td>611.0</td>\n",
              "      <td>294.0</td>\n",
              "      <td>0.0</td>\n",
              "      <td>Atlanta, Ga</td>\n",
              "      <td>Spam</td>\n",
              "    </tr>\n",
              "    <tr>\n",
              "      <th>4</th>\n",
              "      <td>10740</td>\n",
              "      <td>Pedophile Anthony Weiner is TERRIFIED of Getti...</td>\n",
              "      <td>4840.0</td>\n",
              "      <td>1724.0</td>\n",
              "      <td>1522.0</td>\n",
              "      <td>0.0</td>\n",
              "      <td>Blumberg</td>\n",
              "      <td>Spam</td>\n",
              "    </tr>\n",
              "  </tbody>\n",
              "</table>\n",
              "</div>\n",
              "      <button class=\"colab-df-convert\" onclick=\"convertToInteractive('df-dca50f78-a0f2-47d7-b7e1-e209160019e2')\"\n",
              "              title=\"Convert this dataframe to an interactive table.\"\n",
              "              style=\"display:none;\">\n",
              "        \n",
              "  <svg xmlns=\"http://www.w3.org/2000/svg\" height=\"24px\"viewBox=\"0 0 24 24\"\n",
              "       width=\"24px\">\n",
              "    <path d=\"M0 0h24v24H0V0z\" fill=\"none\"/>\n",
              "    <path d=\"M18.56 5.44l.94 2.06.94-2.06 2.06-.94-2.06-.94-.94-2.06-.94 2.06-2.06.94zm-11 1L8.5 8.5l.94-2.06 2.06-.94-2.06-.94L8.5 2.5l-.94 2.06-2.06.94zm10 10l.94 2.06.94-2.06 2.06-.94-2.06-.94-.94-2.06-.94 2.06-2.06.94z\"/><path d=\"M17.41 7.96l-1.37-1.37c-.4-.4-.92-.59-1.43-.59-.52 0-1.04.2-1.43.59L10.3 9.45l-7.72 7.72c-.78.78-.78 2.05 0 2.83L4 21.41c.39.39.9.59 1.41.59.51 0 1.02-.2 1.41-.59l7.78-7.78 2.81-2.81c.8-.78.8-2.07 0-2.86zM5.41 20L4 18.59l7.72-7.72 1.47 1.35L5.41 20z\"/>\n",
              "  </svg>\n",
              "      </button>\n",
              "      \n",
              "  <style>\n",
              "    .colab-df-container {\n",
              "      display:flex;\n",
              "      flex-wrap:wrap;\n",
              "      gap: 12px;\n",
              "    }\n",
              "\n",
              "    .colab-df-convert {\n",
              "      background-color: #E8F0FE;\n",
              "      border: none;\n",
              "      border-radius: 50%;\n",
              "      cursor: pointer;\n",
              "      display: none;\n",
              "      fill: #1967D2;\n",
              "      height: 32px;\n",
              "      padding: 0 0 0 0;\n",
              "      width: 32px;\n",
              "    }\n",
              "\n",
              "    .colab-df-convert:hover {\n",
              "      background-color: #E2EBFA;\n",
              "      box-shadow: 0px 1px 2px rgba(60, 64, 67, 0.3), 0px 1px 3px 1px rgba(60, 64, 67, 0.15);\n",
              "      fill: #174EA6;\n",
              "    }\n",
              "\n",
              "    [theme=dark] .colab-df-convert {\n",
              "      background-color: #3B4455;\n",
              "      fill: #D2E3FC;\n",
              "    }\n",
              "\n",
              "    [theme=dark] .colab-df-convert:hover {\n",
              "      background-color: #434B5C;\n",
              "      box-shadow: 0px 1px 3px 1px rgba(0, 0, 0, 0.15);\n",
              "      filter: drop-shadow(0px 1px 2px rgba(0, 0, 0, 0.3));\n",
              "      fill: #FFFFFF;\n",
              "    }\n",
              "  </style>\n",
              "\n",
              "      <script>\n",
              "        const buttonEl =\n",
              "          document.querySelector('#df-dca50f78-a0f2-47d7-b7e1-e209160019e2 button.colab-df-convert');\n",
              "        buttonEl.style.display =\n",
              "          google.colab.kernel.accessAllowed ? 'block' : 'none';\n",
              "\n",
              "        async function convertToInteractive(key) {\n",
              "          const element = document.querySelector('#df-dca50f78-a0f2-47d7-b7e1-e209160019e2');\n",
              "          const dataTable =\n",
              "            await google.colab.kernel.invokeFunction('convertToInteractive',\n",
              "                                                     [key], {});\n",
              "          if (!dataTable) return;\n",
              "\n",
              "          const docLinkHtml = 'Like what you see? Visit the ' +\n",
              "            '<a target=\"_blank\" href=https://colab.research.google.com/notebooks/data_table.ipynb>data table notebook</a>'\n",
              "            + ' to learn more about interactive tables.';\n",
              "          element.innerHTML = '';\n",
              "          dataTable['output_type'] = 'display_data';\n",
              "          await google.colab.output.renderOutput(dataTable, element);\n",
              "          const docLink = document.createElement('div');\n",
              "          docLink.innerHTML = docLinkHtml;\n",
              "          element.appendChild(docLink);\n",
              "        }\n",
              "      </script>\n",
              "    </div>\n",
              "  </div>\n",
              "  "
            ],
            "text/plain": [
              "      Id  ...     Type\n",
              "0  10091  ...  Quality\n",
              "1  10172  ...  Quality\n",
              "2   7012  ...  Quality\n",
              "3   3697  ...     Spam\n",
              "4  10740  ...     Spam\n",
              "\n",
              "[5 rows x 8 columns]"
            ]
          },
          "metadata": {},
          "execution_count": 5
        }
      ],
      "source": [
        "# printing the first 5 rows of the dataframe\n",
        "tweet_data.head()"
      ]
    },
    {
      "cell_type": "code",
      "execution_count": null,
      "metadata": {
        "colab": {
          "base_uri": "https://localhost:8080/"
        },
        "id": "pHoF-KkxVDLn",
        "outputId": "8a4f2ab9-ce57-4615-b6fb-0ef881a5940f"
      },
      "outputs": [
        {
          "output_type": "execute_result",
          "data": {
            "text/plain": [
              "(11968, 8)"
            ]
          },
          "metadata": {},
          "execution_count": 6
        }
      ],
      "source": [
        "# checking the number of rows and columns in the dataframe\n",
        "tweet_data.shape"
      ]
    },
    {
      "cell_type": "markdown",
      "metadata": {
        "id": "35j0FTxlz3e0"
      },
      "source": [
        "**Label Encoding**"
      ]
    },
    {
      "cell_type": "code",
      "execution_count": null,
      "metadata": {
        "id": "8FbDmWjxz6KK"
      },
      "outputs": [],
      "source": [
        "# label Spam tweet as 0;  Quality tweet as 1;\n",
        "\n",
        "tweet_data.loc[tweet_data['Type'] == 'Spam', 'Type',] = 0\n",
        "tweet_data.loc[tweet_data['Type'] == 'Quality', 'Type',] = 1\n",
        "#These two lines will represent each spam tweet by 0 and each quality tweet by 1"
      ]
    },
    {
      "cell_type": "code",
      "execution_count": null,
      "metadata": {
        "id": "dGD8jjpG3ZoG"
      },
      "outputs": [],
      "source": [
        "# separating the data as texts and label\n",
        "# The text (Y) represents the Type column, while the label (X) represents all the rest of input columns (features) \n",
        "\n",
        "#So first, we will declare the input features:\n",
        "X = tweet_data['Tweet']\n",
        "Y = tweet_data['Type']"
      ]
    },
    {
      "cell_type": "code",
      "execution_count": null,
      "metadata": {
        "colab": {
          "base_uri": "https://localhost:8080/"
        },
        "id": "1XKXyIQ64p0J",
        "outputId": "4e5ee0cc-4bf5-4309-d417-b01e84620a74"
      },
      "outputs": [
        {
          "output_type": "stream",
          "name": "stdout",
          "text": [
            "0        It's the everything else that's complicated. #...\n",
            "1        Eren sent a glare towards Mikasa then nodded a...\n",
            "2        I posted a new photo to Facebook http://fb.me/...\n",
            "3        #jan Idiot Chelsea Handler Diagnoses Trump Wit...\n",
            "4        Pedophile Anthony Weiner is TERRIFIED of Getti...\n",
            "                               ...                        \n",
            "11963                                     11:11 meet harry\n",
            "11964    If BBC Food disappears the loss of knowledge w...\n",
            "11965    Look What Liberals Did to This Historic Monume...\n",
            "11966    I uploaded a new track, \"Everyday Lite 1\", on ...\n",
            "11967    Trump should be declared the victor by about 9...\n",
            "Name: Tweet, Length: 11968, dtype: object\n"
          ]
        }
      ],
      "source": [
        "print(X)"
      ]
    },
    {
      "cell_type": "code",
      "execution_count": null,
      "metadata": {
        "colab": {
          "base_uri": "https://localhost:8080/"
        },
        "id": "mZUyb9Gv4wDz",
        "outputId": "66efe863-465d-4eaa-8d01-bfb8c7db9a28"
      },
      "outputs": [
        {
          "output_type": "stream",
          "name": "stdout",
          "text": [
            "0        1\n",
            "1        1\n",
            "2        1\n",
            "3        0\n",
            "4        0\n",
            "        ..\n",
            "11963    1\n",
            "11964    1\n",
            "11965    0\n",
            "11966    1\n",
            "11967    0\n",
            "Name: Type, Length: 11968, dtype: object\n"
          ]
        }
      ],
      "source": [
        "print(Y)"
      ]
    },
    {
      "cell_type": "markdown",
      "source": [
        "**Splitting Data**"
      ],
      "metadata": {
        "id": "5og0eOp6YDM3"
      }
    },
    {
      "cell_type": "markdown",
      "metadata": {
        "id": "1N_tK6Mi5tcX"
      },
      "source": [
        "**# Now, it is important in machine learning to split the data into training and testing data, in order to train the model and evaluate it.**"
      ]
    },
    {
      "cell_type": "code",
      "execution_count": null,
      "metadata": {
        "id": "Dp1667-c6Fh6"
      },
      "outputs": [],
      "source": [
        "#Using the imported function (train_test_split)\n",
        "#Each data set of the training and testing set must have a specific percentage \n",
        "#We gave the testing data 20% and 80% for the training data\n",
        "\n",
        "X_train, X_test, Y_train, Y_test = train_test_split(X, Y, test_size=0.2, random_state=3)\n",
        "\n",
        "#In regard to the random state, it is a random value that is used to spilt the data in the same way"
      ]
    },
    {
      "cell_type": "code",
      "execution_count": null,
      "metadata": {
        "colab": {
          "base_uri": "https://localhost:8080/"
        },
        "id": "EpkrZkT59Drk",
        "outputId": "1cf92d35-14e4-4b91-c622-623797224ba5"
      },
      "outputs": [
        {
          "output_type": "stream",
          "name": "stdout",
          "text": [
            "The whole ratio:  (11968,)\n",
            "80% (train data): (9574,)\n",
            "20% (test data):  (2394,)\n"
          ]
        }
      ],
      "source": [
        "print('The whole ratio: ', X.shape)\n",
        "print('80% (train data):', X_train.shape)\n",
        "print('20% (test data): ', X_test.shape)"
      ]
    },
    {
      "cell_type": "markdown",
      "metadata": {
        "id": "1sb5KFPx__gm"
      },
      "source": [
        "**Feature Extraction**\n",
        "\n",
        "This part converts all the text input columns to meaning numerical values, to be understood by \"LogisticRegression\" function"
      ]
    },
    {
      "cell_type": "code",
      "execution_count": null,
      "metadata": {
        "id": "ViktnRJEAksH"
      },
      "outputs": [],
      "source": [
        "feature_extraction = TfidfVectorizer(min_df = 1, stop_words='english', lowercase='True')\n",
        "X_train_features = feature_extraction.fit_transform(X_train)\n",
        "#After fitting the training data into the vectorizer function, we don't need to fit the testing data, we just use them in the same vecotrizer\n",
        "X_test_features = feature_extraction.transform(X_test)\n",
        "# convert Y_train and Y_test values as integers to can be understood by the machine\n",
        "#They were declared as object\n",
        "\n",
        "Y_train = Y_train.astype('int')\n",
        "Y_test = Y_test.astype('int')"
      ]
    },
    {
      "cell_type": "code",
      "execution_count": null,
      "metadata": {
        "colab": {
          "base_uri": "https://localhost:8080/"
        },
        "id": "v7VSYyMCLAL6",
        "outputId": "5048a592-8b2e-427e-ece0-55f124a12d63"
      },
      "outputs": [
        {
          "output_type": "stream",
          "name": "stdout",
          "text": [
            "This is the data of X_train before converting to numerical values \n",
            "\n",
            "3155     #ObamaNextJob Lobby to require all Cristian's ...\n",
            "4058                      #iPati playing AGAIN on LesediFM\n",
            "11396    #ThingsYouCantIgnore  Married couples who are ...\n",
            "8014     1 suspect in custody, 2 at large after police ...\n",
            "6991     President Trump is doing what he was elected t...\n",
            "                               ...                        \n",
            "9160     Report: NCAA expands Ole Miss investigation  #...\n",
            "9859     Fly Gal Friday Featured Angler Jenny Tatelman ...\n",
            "11513    The car is so fed up with Ron and Harry. Throw...\n",
            "1688     Truck attacker kills 84 celebrating France's B...\n",
            "5994     Wojo: Skid raises questions about Ausmus futur...\n",
            "Name: Tweet, Length: 9574, dtype: object\n"
          ]
        }
      ],
      "source": [
        "print('This is the data of X_train before converting to numerical values \\n')\n",
        "print(X_train)"
      ]
    },
    {
      "cell_type": "code",
      "execution_count": null,
      "metadata": {
        "colab": {
          "base_uri": "https://localhost:8080/"
        },
        "id": "iezKMweWQA_e",
        "outputId": "5635ed99-875c-4370-e005-f761b8fb403a"
      },
      "outputs": [
        {
          "output_type": "stream",
          "name": "stdout",
          "text": [
            "This is the data of X_train after converting to numerical values \n",
            "\n",
            "  (0, 4690)\t0.31494070909109995\n",
            "  (0, 23683)\t0.28087664960119274\n",
            "  (0, 21246)\t0.2399421303765932\n",
            "  (0, 13802)\t0.23736837111689602\n",
            "  (0, 9164)\t0.28551417574365323\n",
            "  (0, 6746)\t0.29086780677772134\n",
            "  (0, 7503)\t0.28087664960119274\n",
            "  (0, 27223)\t0.28087664960119274\n",
            "  (0, 7480)\t0.32902245422795\n",
            "  (0, 21447)\t0.29719980833441584\n",
            "  (0, 15838)\t0.31494070909109995\n",
            "  (0, 18348)\t0.29719980833441584\n",
            "  (1, 15470)\t0.6351433419459722\n",
            "  (1, 19707)\t0.4395291462046672\n",
            "  (1, 13738)\t0.6351433419459722\n",
            "  (2, 21093)\t0.3630764323462381\n",
            "  (2, 7335)\t0.5493261220739581\n",
            "  (2, 16419)\t0.5636502786466441\n",
            "  (2, 25084)\t0.498713022953557\n",
            "  (3, 13786)\t0.37704758274301714\n",
            "  (3, 1509)\t0.37704758274301714\n",
            "  (3, 12796)\t0.16002440241580146\n",
            "  (3, 7331)\t0.2522576301373051\n",
            "  (3, 12161)\t0.33332376570056715\n",
            "  (3, 18113)\t0.32718870222889634\n",
            "  :\t:\n",
            "  (9571, 12164)\t0.26697592103424916\n",
            "  (9571, 15578)\t0.19829957554694344\n",
            "  (9571, 6015)\t0.451989303690945\n",
            "  (9572, 2503)\t0.381040732375851\n",
            "  (9572, 4526)\t0.39352488860406926\n",
            "  (9572, 4064)\t0.381040732375851\n",
            "  (9572, 14796)\t0.318250713941249\n",
            "  (9572, 25649)\t0.3266762442367991\n",
            "  (9572, 10816)\t0.3298922093271458\n",
            "  (9572, 6225)\t0.3371416332266713\n",
            "  (9572, 7925)\t0.21560764402895757\n",
            "  (9572, 27678)\t0.21807397073429927\n",
            "  (9572, 17860)\t0.17383018613662868\n",
            "  (9573, 25469)\t0.2978186315519289\n",
            "  (9573, 14113)\t0.2978186315519289\n",
            "  (9573, 4124)\t0.5956372631038578\n",
            "  (9573, 27610)\t0.2978186315519289\n",
            "  (9573, 23169)\t0.28507237058211005\n",
            "  (9573, 5396)\t0.26901398089484047\n",
            "  (9573, 20903)\t0.2505362325618737\n",
            "  (9573, 20732)\t0.2270466903653246\n",
            "  (9573, 5449)\t0.16540556683413124\n",
            "  (9573, 11027)\t0.20875331879293338\n",
            "  (9573, 14233)\t0.19037847119853016\n",
            "  (9573, 12796)\t0.06319924954255896\n"
          ]
        }
      ],
      "source": [
        "print('This is the data of X_train after converting to numerical values \\n')\n",
        "print(X_train_features)"
      ]
    },
    {
      "cell_type": "markdown",
      "source": [
        "**Vectorization using Bag of Words**"
      ],
      "metadata": {
        "id": "No9kta3bViZF"
      }
    },
    {
      "cell_type": "code",
      "source": [
        "from sklearn.feature_extraction.text import CountVectorizer  \n",
        "matrix=CountVectorizer()"
      ],
      "metadata": {
        "id": "vdLFNDmVVkld"
      },
      "execution_count": null,
      "outputs": []
    },
    {
      "cell_type": "code",
      "source": [
        "X_train_vect=matrix.fit_transform(X_train).toarray()\n",
        "X_test_vect=matrix.transform(X_test).toarray()"
      ],
      "metadata": {
        "id": "OWHrOTk_VnNc"
      },
      "execution_count": null,
      "outputs": []
    },
    {
      "cell_type": "code",
      "source": [
        "X_train_vect"
      ],
      "metadata": {
        "colab": {
          "base_uri": "https://localhost:8080/"
        },
        "id": "BXIV5WRwVrpj",
        "outputId": "0bdb8fad-a6bf-46df-93bb-a3b64ec16bd7"
      },
      "execution_count": null,
      "outputs": [
        {
          "output_type": "execute_result",
          "data": {
            "text/plain": [
              "array([[0, 0, 0, ..., 0, 0, 0],\n",
              "       [0, 0, 0, ..., 0, 0, 0],\n",
              "       [0, 0, 0, ..., 0, 0, 0],\n",
              "       ...,\n",
              "       [0, 0, 0, ..., 0, 0, 0],\n",
              "       [0, 0, 0, ..., 0, 0, 0],\n",
              "       [0, 0, 0, ..., 0, 0, 0]])"
            ]
          },
          "metadata": {},
          "execution_count": 26
        }
      ]
    },
    {
      "cell_type": "code",
      "source": [
        "X_test_vect"
      ],
      "metadata": {
        "colab": {
          "base_uri": "https://localhost:8080/"
        },
        "id": "R80FX7OlVuVa",
        "outputId": "ff244e4c-ca12-4847-aa24-279ac1dc2723"
      },
      "execution_count": null,
      "outputs": [
        {
          "output_type": "execute_result",
          "data": {
            "text/plain": [
              "array([[0, 0, 0, ..., 0, 0, 0],\n",
              "       [0, 0, 0, ..., 0, 0, 0],\n",
              "       [0, 0, 0, ..., 0, 0, 0],\n",
              "       ...,\n",
              "       [0, 0, 0, ..., 0, 0, 0],\n",
              "       [0, 0, 0, ..., 0, 0, 0],\n",
              "       [0, 0, 0, ..., 0, 0, 0]])"
            ]
          },
          "metadata": {},
          "execution_count": 27
        }
      ]
    },
    {
      "cell_type": "code",
      "source": [
        "Y_train"
      ],
      "metadata": {
        "colab": {
          "base_uri": "https://localhost:8080/"
        },
        "id": "hWkzTw15Vvxu",
        "outputId": "e9d484bb-3f54-49a7-b89c-72b98251da75"
      },
      "execution_count": null,
      "outputs": [
        {
          "output_type": "execute_result",
          "data": {
            "text/plain": [
              "3155     0\n",
              "4058     1\n",
              "11396    0\n",
              "8014     0\n",
              "6991     0\n",
              "        ..\n",
              "9160     0\n",
              "9859     1\n",
              "11513    1\n",
              "1688     0\n",
              "5994     0\n",
              "Name: Type, Length: 9574, dtype: int64"
            ]
          },
          "metadata": {},
          "execution_count": 28
        }
      ]
    },
    {
      "cell_type": "code",
      "source": [
        "Y_test"
      ],
      "metadata": {
        "colab": {
          "base_uri": "https://localhost:8080/"
        },
        "id": "oI1qEKzwVzMe",
        "outputId": "36e227b0-03e4-4044-d392-57838a3c6980"
      },
      "execution_count": null,
      "outputs": [
        {
          "output_type": "execute_result",
          "data": {
            "text/plain": [
              "1744     1\n",
              "4580     0\n",
              "10335    1\n",
              "8717     0\n",
              "10032    1\n",
              "        ..\n",
              "5294     0\n",
              "9657     0\n",
              "2343     0\n",
              "9587     1\n",
              "3515     0\n",
              "Name: Type, Length: 2394, dtype: int64"
            ]
          },
          "metadata": {},
          "execution_count": 29
        }
      ]
    },
    {
      "cell_type": "markdown",
      "source": [
        "**Training the models**"
      ],
      "metadata": {
        "id": "37I19XUTV4WJ"
      }
    },
    {
      "cell_type": "markdown",
      "metadata": {
        "id": "p5dtvbNNcCuE"
      },
      "source": [
        "**1) Logistic Regression**"
      ]
    },
    {
      "cell_type": "code",
      "execution_count": null,
      "metadata": {
        "id": "5VnJWaIhcELe"
      },
      "outputs": [],
      "source": [
        "LR_model = LogisticRegression()"
      ]
    },
    {
      "cell_type": "code",
      "execution_count": null,
      "metadata": {
        "colab": {
          "base_uri": "https://localhost:8080/"
        },
        "id": "yax00g_7cIgN",
        "outputId": "23b2c501-310e-402b-f258-785afc661d96"
      },
      "outputs": [
        {
          "output_type": "execute_result",
          "data": {
            "text/plain": [
              "LogisticRegression()"
            ]
          },
          "metadata": {},
          "execution_count": 17
        }
      ],
      "source": [
        "# training the Logistic Regression model with the training data\n",
        "LR_model.fit(X_train_features, Y_train)"
      ]
    },
    {
      "cell_type": "markdown",
      "source": [
        "**2) Decision Tree**"
      ],
      "metadata": {
        "id": "Hk_3yUtRVHX0"
      }
    },
    {
      "cell_type": "code",
      "source": [
        "dt_model = DecisionTreeClassifier(random_state=10)\n"
      ],
      "metadata": {
        "id": "7_h7iMgcUycj"
      },
      "execution_count": null,
      "outputs": []
    },
    {
      "cell_type": "code",
      "source": [
        "dt_model.fit(X_train_features, Y_train)"
      ],
      "metadata": {
        "colab": {
          "base_uri": "https://localhost:8080/"
        },
        "id": "MFLaaN2oU_dq",
        "outputId": "d0083e0e-af4e-4232-a355-eb044360214e"
      },
      "execution_count": null,
      "outputs": [
        {
          "output_type": "execute_result",
          "data": {
            "text/plain": [
              "DecisionTreeClassifier(random_state=10)"
            ]
          },
          "metadata": {},
          "execution_count": 21
        }
      ]
    },
    {
      "cell_type": "markdown",
      "source": [
        "**3) Naive Bayes**"
      ],
      "metadata": {
        "id": "wXpQUm6GWF1d"
      }
    },
    {
      "cell_type": "code",
      "source": [
        "NB_model=GaussianNB()"
      ],
      "metadata": {
        "id": "gYVPgSxWWJwM"
      },
      "execution_count": null,
      "outputs": []
    },
    {
      "cell_type": "code",
      "source": [
        "NB_model.fit(X_train_vect,Y_train)"
      ],
      "metadata": {
        "colab": {
          "base_uri": "https://localhost:8080/"
        },
        "id": "_5Huu_OEWMHz",
        "outputId": "4ca0133f-23eb-42a6-d875-cee015a23338"
      },
      "execution_count": null,
      "outputs": [
        {
          "output_type": "execute_result",
          "data": {
            "text/plain": [
              "GaussianNB()"
            ]
          },
          "metadata": {},
          "execution_count": 31
        }
      ]
    },
    {
      "cell_type": "code",
      "source": [
        "NB_model.classes_"
      ],
      "metadata": {
        "colab": {
          "base_uri": "https://localhost:8080/"
        },
        "id": "UBno3rSVWQUW",
        "outputId": "9668ac9f-15ae-493c-83f0-053315b1be07"
      },
      "execution_count": null,
      "outputs": [
        {
          "output_type": "execute_result",
          "data": {
            "text/plain": [
              "array([0, 1])"
            ]
          },
          "metadata": {},
          "execution_count": 32
        }
      ]
    },
    {
      "cell_type": "code",
      "source": [
        "Y_pred=NB_model.predict(X_test_vect)"
      ],
      "metadata": {
        "id": "NrPE6fOMWTbu"
      },
      "execution_count": null,
      "outputs": []
    },
    {
      "cell_type": "code",
      "source": [
        "Y_pred"
      ],
      "metadata": {
        "colab": {
          "base_uri": "https://localhost:8080/"
        },
        "id": "Gv_VvSwqWWxO",
        "outputId": "d73a51dc-3a16-4b22-b6a5-346461f9fb12"
      },
      "execution_count": null,
      "outputs": [
        {
          "output_type": "execute_result",
          "data": {
            "text/plain": [
              "array([0, 0, 1, ..., 0, 1, 0])"
            ]
          },
          "metadata": {},
          "execution_count": 34
        }
      ]
    },
    {
      "cell_type": "code",
      "source": [
        "confusion_matrix(Y_test,Y_pred)"
      ],
      "metadata": {
        "colab": {
          "base_uri": "https://localhost:8080/"
        },
        "id": "XTrG2V-XWY4V",
        "outputId": "27ea185e-4353-42a9-b6e6-dfcdb791a637"
      },
      "execution_count": null,
      "outputs": [
        {
          "output_type": "execute_result",
          "data": {
            "text/plain": [
              "array([[1053,  102],\n",
              "       [ 540,  699]])"
            ]
          },
          "metadata": {},
          "execution_count": 35
        }
      ]
    },
    {
      "cell_type": "markdown",
      "source": [
        "**Evaluating the trained model**"
      ],
      "metadata": {
        "id": "5_vFDzgz5xj3"
      }
    },
    {
      "cell_type": "markdown",
      "source": [
        "**1) Logistic Regression**"
      ],
      "metadata": {
        "id": "n--i5OeZWe4t"
      }
    },
    {
      "cell_type": "code",
      "source": [
        "# prediction on training data\n",
        "\n",
        "prediction_on_training_data = LR_model.predict(X_train_features)\n",
        "accuracy_on_training_data = accuracy_score(Y_train, prediction_on_training_data)"
      ],
      "metadata": {
        "id": "sKl1k7jq5rAs"
      },
      "execution_count": null,
      "outputs": []
    },
    {
      "cell_type": "code",
      "source": [
        "print('Accuracy on training data : ', accuracy_on_training_data)"
      ],
      "metadata": {
        "colab": {
          "base_uri": "https://localhost:8080/"
        },
        "id": "2rI64dkm6DcY",
        "outputId": "16edf960-c38b-402e-8bf6-6cc6ba60175b"
      },
      "execution_count": null,
      "outputs": [
        {
          "output_type": "stream",
          "name": "stdout",
          "text": [
            "Accuracy on training data :  0.9747232086902027\n"
          ]
        }
      ]
    },
    {
      "cell_type": "code",
      "source": [
        "# prediction on test data\n",
        "\n",
        "prediction_on_test_data = LR_model.predict(X_test_features)\n",
        "accuracy_on_test_data = accuracy_score(Y_test, prediction_on_test_data)"
      ],
      "metadata": {
        "id": "tD9KOHBP6HOp"
      },
      "execution_count": null,
      "outputs": []
    },
    {
      "cell_type": "code",
      "source": [
        "print('Accuracy on test data : ', accuracy_on_test_data)"
      ],
      "metadata": {
        "colab": {
          "base_uri": "https://localhost:8080/"
        },
        "id": "iSSa_nOw6PoP",
        "outputId": "179889c0-7229-42f9-9f98-38f217a90b5e"
      },
      "execution_count": null,
      "outputs": [
        {
          "output_type": "stream",
          "name": "stdout",
          "text": [
            "Accuracy on test data :  0.934001670843776\n"
          ]
        }
      ]
    },
    {
      "cell_type": "markdown",
      "source": [
        "**2) Decision Tree**"
      ],
      "metadata": {
        "id": "K-NaCX6YWid6"
      }
    },
    {
      "cell_type": "code",
      "source": [
        "# prediction on training data\n",
        "prediction_on_training_data = dt_model.predict(X_train_features)\n",
        "accuracy_on_training_data = accuracy_score(Y_train, prediction_on_training_data)"
      ],
      "metadata": {
        "id": "0EzLLw39WkSI"
      },
      "execution_count": null,
      "outputs": []
    },
    {
      "cell_type": "code",
      "source": [
        "print('Accuracy on training data : ', accuracy_on_training_data)"
      ],
      "metadata": {
        "colab": {
          "base_uri": "https://localhost:8080/"
        },
        "id": "cpb6C8ouWoEN",
        "outputId": "58dd3d1b-9aad-4946-e303-071ae78ba12a"
      },
      "execution_count": null,
      "outputs": [
        {
          "output_type": "stream",
          "name": "stdout",
          "text": [
            "Accuracy on training data :  1.0\n"
          ]
        }
      ]
    },
    {
      "cell_type": "code",
      "source": [
        "# prediction on test data\n",
        "\n",
        "prediction_on_test_data = dt_model.predict(X_test_features)\n",
        "accuracy_on_test_data = accuracy_score(Y_test, prediction_on_test_data)"
      ],
      "metadata": {
        "id": "-DAgRzK6WsFf"
      },
      "execution_count": null,
      "outputs": []
    },
    {
      "cell_type": "code",
      "source": [
        "print('Accuracy on test data : ', accuracy_on_test_data)"
      ],
      "metadata": {
        "colab": {
          "base_uri": "https://localhost:8080/"
        },
        "id": "L1Y8uWGEWt_O",
        "outputId": "355877c2-8627-49dc-ae86-ec5beb23a43e"
      },
      "execution_count": null,
      "outputs": [
        {
          "output_type": "stream",
          "name": "stdout",
          "text": [
            "Accuracy on test data :  0.9273182957393483\n"
          ]
        }
      ]
    },
    {
      "cell_type": "markdown",
      "source": [
        "**3) Naive Bayes**"
      ],
      "metadata": {
        "id": "QYew1mC-Wzh8"
      }
    },
    {
      "cell_type": "code",
      "source": [
        "# prediction on training data\n",
        "\n",
        "prediction_on_training_data = NB_model.predict(X_train_vect)\n",
        "accuracy_on_training_data = accuracy_score(Y_train, prediction_on_training_data)"
      ],
      "metadata": {
        "id": "R9xjMMKAW1aT"
      },
      "execution_count": null,
      "outputs": []
    },
    {
      "cell_type": "code",
      "source": [
        "print('Accuracy on training data : ', accuracy_on_training_data)"
      ],
      "metadata": {
        "colab": {
          "base_uri": "https://localhost:8080/"
        },
        "id": "pjdX7-OqW5Fw",
        "outputId": "25410364-e117-474a-8625-1800570a0441"
      },
      "execution_count": null,
      "outputs": [
        {
          "output_type": "stream",
          "name": "stdout",
          "text": [
            "Accuracy on training data :  0.943806141633591\n"
          ]
        }
      ]
    },
    {
      "cell_type": "code",
      "source": [
        "# prediction on test data\n",
        "\n",
        "prediction_on_test_data = NB_model.predict(X_test_vect)\n",
        "accuracy_on_test_data = accuracy_score(Y_test, prediction_on_test_data)"
      ],
      "metadata": {
        "id": "d8_kBfkJW88_"
      },
      "execution_count": null,
      "outputs": []
    },
    {
      "cell_type": "code",
      "source": [
        "print('Accuracy on test data : ', accuracy_on_test_data)"
      ],
      "metadata": {
        "colab": {
          "base_uri": "https://localhost:8080/"
        },
        "id": "lS3aqDW7W-1_",
        "outputId": "711e73ab-1149-4f92-b101-489d746be595"
      },
      "execution_count": null,
      "outputs": [
        {
          "output_type": "stream",
          "name": "stdout",
          "text": [
            "Accuracy on test data :  0.731829573934837\n"
          ]
        }
      ]
    },
    {
      "cell_type": "markdown",
      "source": [
        "**The output of the best classifiers**"
      ],
      "metadata": {
        "id": "1ByG7JW66XIa"
      }
    },
    {
      "cell_type": "markdown",
      "source": [
        "**1) Logistic Regression**"
      ],
      "metadata": {
        "id": "jJ49-S1SXLe_"
      }
    },
    {
      "cell_type": "code",
      "source": [
        "input_tweet = [\"I just keep holding you down\"]\n",
        "\n",
        "# convert text to feature vectors\n",
        "input_data_features = feature_extraction.transform(input_tweet)\n",
        "\n",
        "# making prediction\n",
        "\n",
        "prediction = LR_model.predict(input_data_features)\n",
        "print(prediction)\n",
        "\n",
        "\n",
        "if (prediction[0]==1):\n",
        "  print('Quality tweet')\n",
        "\n",
        "else:\n",
        "  print('Spam tweet')"
      ],
      "metadata": {
        "colab": {
          "base_uri": "https://localhost:8080/"
        },
        "id": "MkrQaRAx6Uy6",
        "outputId": "772f5a0b-39ff-4e6a-c57c-773bb98b7fa8"
      },
      "execution_count": null,
      "outputs": [
        {
          "output_type": "stream",
          "name": "stdout",
          "text": [
            "[1]\n",
            "Quality tweet\n"
          ]
        }
      ]
    },
    {
      "cell_type": "code",
      "source": [
        "input_tweet = [\"Black slave\"]\n",
        "\n",
        "# convert text to feature vectors\n",
        "input_data_features = feature_extraction.transform(input_tweet)\n",
        "\n",
        "# making prediction\n",
        "\n",
        "prediction = LR_model.predict(input_data_features)\n",
        "print(prediction)\n",
        "\n",
        "\n",
        "if (prediction[0]==1):\n",
        "  print('Quality tweet')\n",
        "\n",
        "else:\n",
        "  print('Spam tweet')"
      ],
      "metadata": {
        "colab": {
          "base_uri": "https://localhost:8080/"
        },
        "id": "HzdE2EqE6uux",
        "outputId": "c1559630-3fde-4d6d-99a5-1972d815f2eb"
      },
      "execution_count": null,
      "outputs": [
        {
          "output_type": "stream",
          "name": "stdout",
          "text": [
            "[0]\n",
            "Spam tweet\n"
          ]
        }
      ]
    },
    {
      "cell_type": "markdown",
      "source": [
        "**2) Decision Tree**"
      ],
      "metadata": {
        "id": "h_g75pp3XQvO"
      }
    },
    {
      "cell_type": "code",
      "source": [
        "input_tweet = [\"I just keep holding you down\"]\n",
        "\n",
        "# convert text to feature vectors\n",
        "input_data_features = feature_extraction.transform(input_tweet)\n",
        "\n",
        "# making prediction\n",
        "\n",
        "prediction = dt_model.predict(input_data_features)\n",
        "print(prediction)\n",
        "\n",
        "\n",
        "if (prediction[0]==1):\n",
        "  print('Quality tweet')\n",
        "\n",
        "else:\n",
        "  print('Spam tweet')"
      ],
      "metadata": {
        "colab": {
          "base_uri": "https://localhost:8080/"
        },
        "id": "5FEM8dn8XSxC",
        "outputId": "169f9595-0f9b-42dd-93a5-6d4eaec5a27f"
      },
      "execution_count": null,
      "outputs": [
        {
          "output_type": "stream",
          "name": "stdout",
          "text": [
            "[1]\n",
            "Quality tweet\n"
          ]
        }
      ]
    },
    {
      "cell_type": "code",
      "source": [
        "input_tweet = [\"Black slave\"]\n",
        "\n",
        "# convert text to feature vectors\n",
        "input_data_features = feature_extraction.transform(input_tweet)\n",
        "\n",
        "# making prediction\n",
        "\n",
        "prediction = dt_model.predict(input_data_features)\n",
        "print(prediction)\n",
        "\n",
        "\n",
        "if (prediction[0]==1):\n",
        "  print('Quality tweet')\n",
        "\n",
        "else:\n",
        "  print('Spam tweet')"
      ],
      "metadata": {
        "colab": {
          "base_uri": "https://localhost:8080/"
        },
        "id": "iA0qTxgjXaRG",
        "outputId": "b9ddc787-a9d6-40bf-d54b-d6eb6d6c45f4"
      },
      "execution_count": null,
      "outputs": [
        {
          "output_type": "stream",
          "name": "stdout",
          "text": [
            "[0]\n",
            "Spam tweet\n"
          ]
        }
      ]
    }
  ],
  "metadata": {
    "colab": {
      "provenance": [],
      "include_colab_link": true
    },
    "kernelspec": {
      "display_name": "Python 3",
      "name": "python3"
    },
    "language_info": {
      "name": "python"
    }
  },
  "nbformat": 4,
  "nbformat_minor": 0
}